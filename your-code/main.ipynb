{
   "cell_type": "code",
   "execution_count": null,
   "execution_count": 146,
   "metadata": {},
   "outputs": [],
   "source": [
@@ -25,11 +25,30 @@
  },
  {
   "cell_type": "code",
   "execution_count": null,
   "execution_count": 149,
   "metadata": {},
   "outputs": [],
   "outputs": [
    {
     "name": "stdout",
     "output_type": "stream",
     "text": [
      "PLAY\n",
      "FILLING\n",
      "BAR\n",
      "THEATRE\n",
      "EASYGOING\n",
      "DATE\n",
      "LEAD\n",
      "THAT\n",
      "STORY\n",
      "ISLAND\n"
     ]
    }
   ],
   "source": [
    "# your code here"
    "# your code here\n",
    "for word in words:\n",
    "    print(word.upper())"
   ]
  },
  {
@@ -41,11 +60,25 @@
  },
  {
   "cell_type": "code",
   "execution_count": null,
   "execution_count": 155,
   "metadata": {},
   "outputs": [],
   "outputs": [
    {
     "name": "stdout",
     "output_type": "stream",
     "text": [
      "['filling', 'theatre', 'easygoing', 'story', 'island']\n"
     ]
    }
   ],
   "source": [
    "# your code here"
    "# your code here\n",
    "new_words = []\n",
    "\n",
    "for word in words:\n",
    "     if len(word) >= 5:\n",
    "         new_words.append(word)\n",
    "print(new_words)"
   ]
  },
  {
@@ -57,11 +90,23 @@
  },
  {
   "cell_type": "code",
   "execution_count": null,
   "execution_count": 158,
   "metadata": {},
   "outputs": [],
   "outputs": [
    {
     "name": "stdout",
     "output_type": "stream",
     "text": [
      "theatre\n"
     ]
    }
   ],
   "source": [
    "# your code here"
    "# your code here\n",
    "for word in words:\n",
    "    if word[0] == 't':\n",
    "        print(word)\n",
    "        break"
   ]
  },
  {
@@ -80,11 +125,25 @@
  },
  {
   "cell_type": "code",
   "execution_count": null,
   "execution_count": 162,
   "metadata": {},
   "outputs": [],
   "outputs": [
    {
     "name": "stdout",
     "output_type": "stream",
     "text": [
      "[1, 4, 9, 16, 25, 36, 49, 64, 81, 100]\n"
     ]
    }
   ],
   "source": [
    "# your code here"
    "# your code here\n",
    "num_list = [1, 2, 3, 4, 5, 6, 7, 8, 9, 10]\n",
    "sqr_list = []\n",
    "\n",
    "for num in num_list:\n",
    "    sqr_list.append(num ** 2)\n",
    "print(sqr_list)"
   ]
  },
  {
@@ -96,11 +155,26 @@
  },
  {
   "cell_type": "code",
   "execution_count": null,
   "execution_count": 164,
   "metadata": {},
   "outputs": [],
   "outputs": [
    {
     "name": "stdout",
     "output_type": "stream",
     "text": [
      "1\n",
      "9\n",
      "25\n",
      "49\n",
      "81\n"
     ]
    }
   ],
   "source": [
    "# your code here"
    "# your code here\n",
    "for num, sqr in zip(num_list, sqr_list):\n",
    "    if num % 2 != 0:\n",
    "        print(sqr)"
   ]
  },
  {
@@ -112,11 +186,26 @@
  },
  {
   "cell_type": "code",
   "execution_count": null,
   "execution_count": 93,
   "metadata": {},
   "outputs": [],
   "outputs": [
    {
     "name": "stdout",
     "output_type": "stream",
     "text": [
      "[0, 64, 256, 576, 1024, 1600, 2304, 3136, 4096, 5184, 6400, 7744, 9216, 10816, 12544, 14400, 16384, 18496, 20736, 23104, 25600, 28224, 30976, 33856, 36864, 40000, 43264, 46656, 50176, 53824, 57600, 61504, 65536, 69696, 73984, 78400, 82944, 87616, 92416, 97344, 102400, 107584, 112896, 118336, 123904, 129600, 135424, 141376, 147456, 153664, 160000, 166464, 173056, 179776, 186624, 193600, 200704, 207936, 215296, 222784, 230400, 238144, 246016, 254016, 262144, 270400, 278784, 287296, 295936, 304704, 313600, 322624, 331776, 341056, 350464, 360000, 369664, 379456, 389376, 399424, 409600, 419904, 430336, 440896, 451584, 462400, 473344, 484416, 495616, 506944, 518400, 529984, 541696, 553536, 565504, 577600, 589824, 602176, 614656, 627264, 640000, 652864, 665856, 678976, 692224, 705600, 719104, 732736, 746496, 760384, 774400, 788544, 802816, 817216, 831744, 846400, 861184, 876096, 891136, 906304, 921600, 937024, 952576, 968256, 984064]\n"
     ]
    }
   ],
   "source": [
    "# your code here"
    "# your code here\n",
    "sqr_mult_8 = []\n",
    "\n",
    "for num in range(1000):\n",
    "    if num % 8 == 0:\n",
    "        sqr_num = num ** 2\n",
    "        sqr_mult_8.append(sqr_num)\n",
    "print(sqr_mult_8)"
   ]
  },
  {
@@ -128,7 +217,7 @@
  },
  {
   "cell_type": "code",
   "execution_count": null,
   "execution_count": 116,
   "metadata": {},
   "outputs": [],
   "source": [
@@ -170,11 +259,23 @@
  },
  {
   "cell_type": "code",
   "execution_count": null,
   "execution_count": 168,
   "metadata": {},
   "outputs": [],
   "outputs": [
    {
     "name": "stdout",
     "output_type": "stream",
     "text": [
      "There are 5 people in the list.\n"
     ]
    }
   ],
   "source": [
    "# your code here"
    "# your code here\n",
    "count = 0\n",
    "for person in people:\n",
    "    count+=1\n",
    "print(f\"There are {count} people in the list.\")"
   ]
  },
  {
@@ -186,11 +287,24 @@
  },
  {
   "cell_type": "code",
   "execution_count": null,
   "execution_count": 170,
   "metadata": {},
   "outputs": [],
   "outputs": [
    {
     "name": "stdout",
     "output_type": "stream",
     "text": [
      "There are 4 people who have kids.\n"
     ]
    }
   ],
   "source": [
    "# your code here"
    "# your code here\n",
    "count = 0\n",
    "for person in people:\n",
    "    if person[\"n_kids\"] > 0:\n",
    "        count+=1\n",
    "print(f\"There are {count} people who have kids.\")"
   ]
  },
  {
@@ -202,11 +316,25 @@
  },
  {
   "cell_type": "code",
   "execution_count": null,
   "execution_count": 128,
   "metadata": {},
   "outputs": [],
   "outputs": [
    {
     "name": "stdout",
     "output_type": "stream",
     "text": [
      "Juan: 2\n",
      "Sonia: 1\n",
      "Lucía: 2\n",
      "Leo: 5\n"
     ]
    }
   ],
   "source": [
    "# your code here"
    "# your code here\n",
    "for person in people:\n",
    "    if person[\"n_kids\"] > 0:\n",
    "        print(f\"{person[\"name\"]}: {person[\"n_kids\"]}\")"
   ]
  },
  {
@@ -218,12 +346,33 @@
  },
  {
   "cell_type": "code",
   "execution_count": null,
   "execution_count": 140,
   "metadata": {},
   "outputs": [],
   "outputs": [
    {
     "name": "stdout",
     "output_type": "stream",
     "text": [
      "[{'name': 'Sonia', 'age': 41, 'n_kids': 1}, {'name': 'Lucía', 'age': 22, 'n_kids': 2}]\n"
     ]
    }
   ],
   "source": [
    "# your code here"
    "# your code here\n",
    "people_extra_kid = []\n",
    "\n",
    "for person in people:\n",
    "    if person[\"name\"][-1] == \"a\":\n",
    "        people_extra_kid.append(person)\n",
    "print(people_extra_kid)"
   ]
  },
  {
   "cell_type": "code",
   "execution_count": null,
   "metadata": {},
   "outputs": [],
   "source": []
  }
 ],
 "metadata": {
@@ -242,7 +391,7 @@
   "name": "python",
   "nbconvert_exporter": "python",
   "pygments_lexer": "ipython3",
   "version": "3.9.13"
   "version": "3.12.7"
  },
  "toc": {
   "base_numbering": 1,
